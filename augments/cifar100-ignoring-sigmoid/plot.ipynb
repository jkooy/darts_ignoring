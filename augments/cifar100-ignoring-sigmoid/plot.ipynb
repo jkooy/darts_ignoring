{
 "cells": [
  {
   "cell_type": "code",
   "execution_count": 20,
   "metadata": {},
   "outputs": [
    {
     "name": "stdout",
     "output_type": "stream",
     "text": [
      "0\n"
     ]
    },
    {
     "data": {
      "image/png": "[encoded data removed]",
      "text/plain": [
       "<Figure size 576x432 with 1 Axes>"
      ]
     },
     "metadata": {
      "needs_background": "light"
     },
     "output_type": "display_data"
    }
   ],
   "source": [
    "import matplotlib.pyplot as plt\n",
    "l_n = 0\n",
    "a_n = 0\n",
    "loss_x = []\n",
    "loss_y = []\n",
    "acc_x = []\n",
    "acc_y = []\n",
    "with open(\"cifar100-ignoring-sigmoid.log\") as f: \n",
    "    for line in f:\n",
    "        line = line.strip()\n",
    "        if len(line.split(\"Valid:\")) == 2:\n",
    "            print(line)\n",
    "            print(line.split(\"Valid:\")[1])\n",
    "            if len(line.split(\"Valid:\")[1].split(\"Loss\")) ==2:\n",
    "                \n",
    "                print(line.split(\"Valid:\")[1].split(\"Loss\")[1].split(\" Prec\")[0])\n",
    "                loss_y.append(float(line.split(\"Valid:\")[1].split(\"Loss\")[1].split(\" Prec\")[0]))\n",
    "                loss_x.append(l_n)\n",
    "                l_n += 20   #根据display调整\n",
    "print(len(loss_x))       \n",
    "plt.figure(figsize=(8,6))\n",
    "plt.plot(loss_x,loss_y,'',label=\"loss\")\n",
    "plt.title('loss')\n",
    "plt.legend(loc='upper right')\n",
    "plt.xlabel('iter')\n",
    "plt.ylabel('')\n",
    "plt.grid(loss_x)\n",
    "plt.savefig('loss.png')#保存图片\n",
    "plt.show()"
   ]
  },
  {
   "cell_type": "code",
   "execution_count": 3,
   "metadata": {},
   "outputs": [
    {
     "name": "stdout",
     "output_type": "stream",
     "text": [
      "0\n"
     ]
    },
    {
     "data": {
      "image/png": "[encoded data removed]",
      "text/plain": [
       "<Figure size 576x432 with 1 Axes>"
      ]
     },
     "metadata": {
      "needs_background": "light"
     },
     "output_type": "display_data"
    }
   ],
   "source": [
    "import matplotlib.pyplot as plt\n",
    "l_n = 0\n",
    "a_n = 0\n",
    "loss_x = []\n",
    "loss_y = []\n",
    "acc_x = []\n",
    "acc_y = []\n",
    "with open(\"cifar100-ignoring-sigmoid-new-val-loss.log\") as f: \n",
    "    for line in f:\n",
    "        line = line.strip()\n",
    "        if len(line.split(\"Valid:\")) == 2 and ('Step 260/260' in line):\n",
    "            print(line)\n",
    "            print(line.split(\"Valid:\")[1])\n",
    "            if len(line.split(\"Valid:\")[1].split(\"Loss\")) ==2:\n",
    "                \n",
    "                print(line.split(\"Valid:\")[1].split(\"Loss\")[1].split(\" Prec\")[0])\n",
    "                loss_y.append(float(line.split(\"Valid:\")[1].split(\"Loss\")[1].split(\" Prec\")[0]))\n",
    "                loss_x.append(l_n)\n",
    "                l_n += 20   #根据display调整\n",
    "print(len(loss_x))       \n",
    "plt.figure(figsize=(8,6))\n",
    "plt.plot(loss_x,loss_y,'',label=\"loss\")\n",
    "plt.title('loss')\n",
    "plt.legend(loc='upper right')\n",
    "plt.xlabel('iter')\n",
    "plt.ylabel('')\n",
    "plt.grid(loss_x)\n",
    "plt.savefig('loss.png')#保存图片\n",
    "plt.show()"
   ]
  },
  {
   "cell_type": "code",
   "execution_count": 10,
   "metadata": {},
   "outputs": [
    {
     "name": "stdout",
     "output_type": "stream",
     "text": [
      "08/14 02:26:59 PM | Train: [  1/600] Step 390/390 Loss 4.314 standard Loss 4.314 Valid Loss 4.339 Prec@(1,5) (6.1%, 22.1%)\n",
      " [  1/600] Step 390/390 Loss 4.314 standard Loss 4.314 Valid Loss 4.339 Prec@(1,5) (6.1%, 22.1%)\n",
      " 4.314 \n",
      "08/14 02:31:20 PM | Train: [  2/600] Step 390/390 Loss 3.726 standard Loss 3.726 Valid Loss 3.712 Prec@(1,5) (11.1%, 35.3%)\n",
      " [  2/600] Step 390/390 Loss 3.726 standard Loss 3.726 Valid Loss 3.712 Prec@(1,5) (11.1%, 35.3%)\n",
      " 3.726 \n",
      "08/14 02:35:38 PM | Train: [  3/600] Step 390/390 Loss 3.485 standard Loss 3.485 Valid Loss 3.489 Prec@(1,5) (15.2%, 42.7%)\n",
      " [  3/600] Step 390/390 Loss 3.485 standard Loss 3.485 Valid Loss 3.489 Prec@(1,5) (15.2%, 42.7%)\n",
      " 3.485 \n",
      "08/14 02:40:11 PM | Train: [  4/600] Step 390/390 Loss 3.278 standard Loss 3.278 Valid Loss 3.303 Prec@(1,5) (18.5%, 48.4%)\n",
      " [  4/600] Step 390/390 Loss 3.278 standard Loss 3.278 Valid Loss 3.303 Prec@(1,5) (18.5%, 48.4%)\n",
      " 3.278 \n",
      "08/14 02:44:41 PM | Train: [  5/600] Step 390/390 Loss 3.105 standard Loss 3.105 Valid Loss 3.153 Prec@(1,5) (21.8%, 53.2%)\n",
      " [  5/600] Step 390/390 Loss 3.105 standard Loss 3.105 Valid Loss 3.153 Prec@(1,5) (21.8%, 53.2%)\n",
      " 3.105 \n",
      "08/14 02:49:05 PM | Train: [  6/600] Step 390/390 Loss 2.948 standard Loss 2.948 Valid Loss 3.022 Prec@(1,5) (24.6%, 56.6%)\n",
      " [  6/600] Step 390/390 Loss 2.948 standard Loss 2.948 Valid Loss 3.022 Prec@(1,5) (24.6%, 56.6%)\n",
      " 2.948 \n",
      "08/14 02:53:26 PM | Train: [  7/600] Step 390/390 Loss 2.819 standard Loss 2.819 Valid Loss 2.907 Prec@(1,5) (27.5%, 60.2%)\n",
      " [  7/600] Step 390/390 Loss 2.819 standard Loss 2.819 Valid Loss 2.907 Prec@(1,5) (27.5%, 60.2%)\n",
      " 2.819 \n",
      "08/14 02:57:56 PM | Train: [  8/600] Step 390/390 Loss 2.692 standard Loss 2.692 Valid Loss 2.803 Prec@(1,5) (30.0%, 63.1%)\n",
      " [  8/600] Step 390/390 Loss 2.692 standard Loss 2.692 Valid Loss 2.803 Prec@(1,5) (30.0%, 63.1%)\n",
      " 2.692 \n",
      "08/14 03:02:28 PM | Train: [  9/600] Step 390/390 Loss 2.586 standard Loss 2.586 Valid Loss 2.729 Prec@(1,5) (32.4%, 65.3%)\n",
      " [  9/600] Step 390/390 Loss 2.586 standard Loss 2.586 Valid Loss 2.729 Prec@(1,5) (32.4%, 65.3%)\n",
      " 2.586 \n",
      "08/14 03:07:01 PM | Train: [ 10/600] Step 390/390 Loss 2.484 standard Loss 2.484 Valid Loss 2.672 Prec@(1,5) (34.2%, 67.8%)\n",
      " [ 10/600] Step 390/390 Loss 2.484 standard Loss 2.484 Valid Loss 2.672 Prec@(1,5) (34.2%, 67.8%)\n",
      " 2.484 \n",
      "08/14 03:11:29 PM | Train: [ 11/600] Step 390/390 Loss 2.403 standard Loss 2.403 Valid Loss 2.612 Prec@(1,5) (36.0%, 69.8%)\n",
      " [ 11/600] Step 390/390 Loss 2.403 standard Loss 2.403 Valid Loss 2.612 Prec@(1,5) (36.0%, 69.8%)\n",
      " 2.403 \n",
      "08/14 03:15:44 PM | Train: [ 12/600] Step 390/390 Loss 2.319 standard Loss 2.319 Valid Loss 2.563 Prec@(1,5) (38.0%, 71.3%)\n",
      " [ 12/600] Step 390/390 Loss 2.319 standard Loss 2.319 Valid Loss 2.563 Prec@(1,5) (38.0%, 71.3%)\n",
      " 2.319 \n",
      "08/14 03:20:01 PM | Train: [ 13/600] Step 390/390 Loss 2.243 standard Loss 2.243 Valid Loss 2.522 Prec@(1,5) (39.6%, 73.0%)\n",
      " [ 13/600] Step 390/390 Loss 2.243 standard Loss 2.243 Valid Loss 2.522 Prec@(1,5) (39.6%, 73.0%)\n",
      " 2.243 \n",
      "08/14 03:24:25 PM | Train: [ 14/600] Step 390/390 Loss 2.182 standard Loss 2.182 Valid Loss 2.488 Prec@(1,5) (40.9%, 74.0%)\n",
      " [ 14/600] Step 390/390 Loss 2.182 standard Loss 2.182 Valid Loss 2.488 Prec@(1,5) (40.9%, 74.0%)\n",
      " 2.182 \n",
      "08/14 03:28:52 PM | Train: [ 15/600] Step 390/390 Loss 2.102 standard Loss 2.102 Valid Loss 2.465 Prec@(1,5) (42.4%, 75.8%)\n",
      " [ 15/600] Step 390/390 Loss 2.102 standard Loss 2.102 Valid Loss 2.465 Prec@(1,5) (42.4%, 75.8%)\n",
      " 2.102 \n",
      "08/14 03:33:17 PM | Train: [ 16/600] Step 390/390 Loss 2.065 standard Loss 2.065 Valid Loss 2.449 Prec@(1,5) (43.8%, 76.7%)\n",
      " [ 16/600] Step 390/390 Loss 2.065 standard Loss 2.065 Valid Loss 2.449 Prec@(1,5) (43.8%, 76.7%)\n",
      " 2.065 \n",
      "08/14 03:37:38 PM | Train: [ 17/600] Step 390/390 Loss 1.997 standard Loss 1.997 Valid Loss 2.428 Prec@(1,5) (45.3%, 77.8%)\n",
      " [ 17/600] Step 390/390 Loss 1.997 standard Loss 1.997 Valid Loss 2.428 Prec@(1,5) (45.3%, 77.8%)\n",
      " 1.997 \n",
      "08/14 03:41:53 PM | Train: [ 18/600] Step 390/390 Loss 1.954 standard Loss 1.954 Valid Loss 2.408 Prec@(1,5) (46.0%, 78.8%)\n",
      " [ 18/600] Step 390/390 Loss 1.954 standard Loss 1.954 Valid Loss 2.408 Prec@(1,5) (46.0%, 78.8%)\n",
      " 1.954 \n",
      "08/14 03:46:08 PM | Train: [ 19/600] Step 390/390 Loss 1.895 standard Loss 1.895 Valid Loss 2.412 Prec@(1,5) (47.4%, 79.8%)\n",
      " [ 19/600] Step 390/390 Loss 1.895 standard Loss 1.895 Valid Loss 2.412 Prec@(1,5) (47.4%, 79.8%)\n",
      " 1.895 \n",
      "08/14 03:50:32 PM | Train: [ 20/600] Step 390/390 Loss 1.861 standard Loss 1.861 Valid Loss 2.395 Prec@(1,5) (48.3%, 80.4%)\n",
      " [ 20/600] Step 390/390 Loss 1.861 standard Loss 1.861 Valid Loss 2.395 Prec@(1,5) (48.3%, 80.4%)\n",
      " 1.861 \n",
      "08/14 03:55:17 PM | Train: [ 21/600] Step 390/390 Loss 1.809 standard Loss 1.809 Valid Loss 2.382 Prec@(1,5) (49.6%, 81.0%)\n",
      " [ 21/600] Step 390/390 Loss 1.809 standard Loss 1.809 Valid Loss 2.382 Prec@(1,5) (49.6%, 81.0%)\n",
      " 1.809 \n",
      "08/14 03:59:32 PM | Train: [ 22/600] Step 390/390 Loss 1.772 standard Loss 1.772 Valid Loss 2.370 Prec@(1,5) (50.4%, 81.9%)\n",
      " [ 22/600] Step 390/390 Loss 1.772 standard Loss 1.772 Valid Loss 2.370 Prec@(1,5) (50.4%, 81.9%)\n",
      " 1.772 \n",
      "08/14 04:03:47 PM | Train: [ 23/600] Step 390/390 Loss 1.730 standard Loss 1.730 Valid Loss 2.373 Prec@(1,5) (51.6%, 82.6%)\n",
      " [ 23/600] Step 390/390 Loss 1.730 standard Loss 1.730 Valid Loss 2.373 Prec@(1,5) (51.6%, 82.6%)\n",
      " 1.730 \n",
      "08/14 04:08:12 PM | Train: [ 24/600] Step 390/390 Loss 1.691 standard Loss 1.691 Valid Loss 2.377 Prec@(1,5) (52.7%, 83.4%)\n",
      " [ 24/600] Step 390/390 Loss 1.691 standard Loss 1.691 Valid Loss 2.377 Prec@(1,5) (52.7%, 83.4%)\n",
      " 1.691 \n",
      "08/14 04:12:35 PM | Train: [ 25/600] Step 390/390 Loss 1.644 standard Loss 1.644 Valid Loss 2.378 Prec@(1,5) (53.6%, 84.2%)\n",
      " [ 25/600] Step 390/390 Loss 1.644 standard Loss 1.644 Valid Loss 2.378 Prec@(1,5) (53.6%, 84.2%)\n",
      " 1.644 \n",
      "08/14 04:16:54 PM | Train: [ 26/600] Step 390/390 Loss 1.622 standard Loss 1.622 Valid Loss 2.396 Prec@(1,5) (53.9%, 84.7%)\n",
      " [ 26/600] Step 390/390 Loss 1.622 standard Loss 1.622 Valid Loss 2.396 Prec@(1,5) (53.9%, 84.7%)\n",
      " 1.622 \n",
      "08/14 04:21:10 PM | Train: [ 27/600] Step 390/390 Loss 1.575 standard Loss 1.575 Valid Loss 2.411 Prec@(1,5) (54.9%, 85.4%)\n",
      " [ 27/600] Step 390/390 Loss 1.575 standard Loss 1.575 Valid Loss 2.411 Prec@(1,5) (54.9%, 85.4%)\n",
      " 1.575 \n",
      "08/14 04:25:31 PM | Train: [ 28/600] Step 390/390 Loss 1.568 standard Loss 1.568 Valid Loss 2.410 Prec@(1,5) (55.6%, 85.0%)\n",
      " [ 28/600] Step 390/390 Loss 1.568 standard Loss 1.568 Valid Loss 2.410 Prec@(1,5) (55.6%, 85.0%)\n",
      " 1.568 \n",
      "08/14 04:29:53 PM | Train: [ 29/600] Step 390/390 Loss 1.525 standard Loss 1.525 Valid Loss 2.421 Prec@(1,5) (56.3%, 86.1%)\n",
      " [ 29/600] Step 390/390 Loss 1.525 standard Loss 1.525 Valid Loss 2.421 Prec@(1,5) (56.3%, 86.1%)\n",
      " 1.525 \n",
      "08/14 04:34:19 PM | Train: [ 30/600] Step 390/390 Loss 1.484 standard Loss 1.484 Valid Loss 2.403 Prec@(1,5) (57.5%, 87.0%)\n",
      " [ 30/600] Step 390/390 Loss 1.484 standard Loss 1.484 Valid Loss 2.403 Prec@(1,5) (57.5%, 87.0%)\n",
      " 1.484 \n",
      "08/14 04:38:35 PM | Train: [ 31/600] Step 390/390 Loss 1.472 standard Loss 1.472 Valid Loss 2.438 Prec@(1,5) (57.7%, 87.0%)\n",
      " [ 31/600] Step 390/390 Loss 1.472 standard Loss 1.472 Valid Loss 2.438 Prec@(1,5) (57.7%, 87.0%)\n",
      " 1.472 \n",
      "31\n"
     ]
    },
    {
     "data": {
      "image/png": "[encoded data removed]",
      "text/plain": [
       "<Figure size 576x432 with 1 Axes>"
      ]
     },
     "metadata": {
      "needs_background": "light"
     },
     "output_type": "display_data"
    }
   ],
   "source": [
    "import matplotlib.pyplot as plt\n",
    "l_n = 0\n",
    "a_n = 0\n",
    "loss_x = []\n",
    "loss_y = []\n",
    "acc_x = []\n",
    "acc_y = []\n",
    "\n",
    "tloss_x = []\n",
    "tloss_y = []\n",
    "with open(\"cifar100-ignoring-sigmoid.log\") as f: \n",
    "    for line in f:\n",
    "        line = line.strip()\n",
    "        if len(line.split(\"Train:\")) == 2 and ('Step 390/390' in line):\n",
    "            print(line)\n",
    "            print(line.split(\"Train:\")[1])\n",
    "            if len(line.split(\"Train:\")[1].split(\"Valid Loss\")) ==2:\n",
    "#                 print(line.split(\"Train:\")[1].split(\"Valid Loss\")[1])\n",
    "#                 loss_y.append(float(line.split(\"Train:\")[1].split(\"Valid Loss\")[1]))\n",
    "#                 print(line.split(\"Train:\")[1].split(\"Valid Loss\")[1].split(\" Prec\")[0])\n",
    "                loss_y.append(float(line.split(\"Train:\")[1].split(\"Valid Loss\")[1].split(\" Prec\")[0]))\n",
    "                loss_x.append(l_n)\n",
    "            \n",
    "                print(line.split(\"Train:\")[1].split(\"Valid Loss\")[0].split(\"standard Loss\")[1])\n",
    "                tloss_y.append(float(line.split(\"Train:\")[1].split(\"Valid Loss\")[0].split(\"standard Loss\")[1]))\n",
    "                l_n += 20   #根据display调整\n",
    "print(len(loss_x))       \n",
    "plt.figure(figsize=(8,6))\n",
    "plt.plot(loss_x,loss_y,'',label=\"validation loss\")\n",
    "# plt.plot(loss_x,tloss_y,'',label=\"train loss\")\n",
    "plt.title('loss')\n",
    "plt.legend(loc='upper right')\n",
    "plt.xlabel('iter')\n",
    "plt.ylabel('')\n",
    "plt.grid(loss_x)\n",
    "plt.savefig('loss.png')#保存图片\n",
    "plt.show()"
   ]
  },
  {
   "cell_type": "code",
   "execution_count": 5,
   "metadata": {},
   "outputs": [
    {
     "name": "stdout",
     "output_type": "stream",
     "text": [
      "0\n"
     ]
    },
    {
     "data": {
      "image/png": "[encoded data removed]",
      "text/plain": [
       "<Figure size 576x432 with 1 Axes>"
      ]
     },
     "metadata": {
      "needs_background": "light"
     },
     "output_type": "display_data"
    }
   ],
   "source": [
    "import matplotlib.pyplot as plt\n",
    "l_n = 0\n",
    "a_n = 0\n",
    "loss_x = []\n",
    "loss_y = []\n",
    "acc_x = []\n",
    "acc_y = []\n",
    "with open(\"cifar100-ignoring-sigmoid.log\") as f: \n",
    "    for line in f:\n",
    "        line = line.strip()\n",
    "        if (len(line.split(\"Train:\")) == 2) and ('Step 781/781' in line) and \"standard Loss\" in line:\n",
    "            print(line)\n",
    "            print(line.split(\"Train:\")[1])\n",
    "            print(line.split(\"Train:\")[1].split(\"standard Loss\")[0])\n",
    "            print(line.split(\"Train:\")[1].split(\"standard Loss\")[0].split(\"Loss\")[1])\n",
    "            loss_y.append(float(line.split(\"Train:\")[1].split(\"standard Loss\")[0].split(\"Loss\")[1]))\n",
    "            loss_x.append(l_n)\n",
    "            l_n += 20   #根据display调整\n",
    "print(len(loss_x))       \n",
    "plt.figure(figsize=(8,6))\n",
    "plt.plot(loss_x,loss_y,'',label=\"loss\")\n",
    "plt.title('loss')\n",
    "plt.legend(loc='upper right')\n",
    "plt.xlabel('iter')\n",
    "plt.ylabel('')\n",
    "plt.grid(loss_x)\n",
    "plt.show()"
   ]
  },
  {
   "cell_type": "code",
   "execution_count": 56,
   "metadata": {},
   "outputs": [
    {
     "name": "stdout",
     "output_type": "stream",
     "text": [
      "0.026555631083886578 0.01817434384813082\n"
     ]
    }
   ],
   "source": [
    "from numpy.random import seed\n",
    "from numpy.random import randn\n",
    "from scipy.stats import ttest_ind\n",
    "from scipy.stats import f_oneway\n",
    "import numpy as np\n",
    "\n",
    "auc1 = [0.9279175402, 0.934, 0.9107113906, 0.9611208945, 0.9365185185]\n",
    "# auc2 = [0.805, 0.825, 0.845, 0.865, 0.785]\n",
    "auc2 = [0.876, 0.904, 0.848, 0.82, 0.932]\n",
    "\n",
    "arr_std = np.std(auc1,ddof=1)\n",
    "\n",
    "stat, p = ttest_ind(auc1, auc2)\n",
    "\n",
    "print(p, arr_std)"
   ]
  },
  {
   "cell_type": "code",
   "execution_count": 53,
   "metadata": {},
   "outputs": [
    {
     "name": "stdout",
     "output_type": "stream",
     "text": [
      "0.8580814158710768\n"
     ]
    }
   ],
   "source": [
    "\n",
    "f1 = [0.744313, 0.769, 0.7428571, 0.6374391, 0.7253705]\n",
    "# f2 = [0.729, 0.749, 0.769, 0.709, 0.689]\n",
    "f2 = [0.720, 0.721, 0.739, 0.751, 0.710]\n",
    "stat, p = ttest_ind(f1, f2)\n",
    "print(p)"
   ]
  },
  {
   "cell_type": "code",
   "execution_count": null,
   "metadata": {},
   "outputs": [],
   "source": [
    "acc1 = [0.8578654528, 0.878, 0.8998482823, 0.736469388, 0.840667665]\n",
    "acc2 = "
   ]
  }
 ],
 "metadata": {
  "kernelspec": {
   "display_name": "Python 3",
   "language": "python",
   "name": "python3"
  },
  "language_info": {
   "codemirror_mode": {
    "name": "ipython",
    "version": 3
   },
   "file_extension": ".py",
   "mimetype": "text/x-python",
   "name": "python",
   "nbconvert_exporter": "python",
   "pygments_lexer": "ipython3",
   "version": "3.7.3"
  }
 },
 "nbformat": 4,
 "nbformat_minor": 4
}
