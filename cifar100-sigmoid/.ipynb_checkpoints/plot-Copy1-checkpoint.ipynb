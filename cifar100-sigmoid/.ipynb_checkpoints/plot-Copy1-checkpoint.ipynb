{
 "cells": [
  {
   "cell_type": "code",
   "execution_count": 1,
   "metadata": {},
   "outputs": [
    {
     "data": {
      "image/png": "[encoded data removed]",
      "text/plain": [
       "<Figure size 432x288 with 2 Axes>"
      ]
     },
     "metadata": {
      "needs_background": "light"
     },
     "output_type": "display_data"
    }
   ],
   "source": [
    "import matplotlib.pyplot as plt\n",
    "\n",
    "input = open('cifar10-mg.log', 'r')\n",
    "\n",
    "rangeUpdateTime = [0.0]\n",
    "\n",
    "for line in input:\n",
    "    line = line.split()\n",
    "    if 'Valid' in line:\n",
    "        rangeUpdateTime.append(float(line[-1]))\n",
    "\n",
    "plt.figure('frame time')\n",
    "plt.subplot(211)\n",
    "plt.plot(rangeUpdateTime, '.r',)\n",
    "plt.grid(True)\n",
    "plt.subplot(212)\n",
    "plt.plot(rangeUpdateTime)\n",
    "plt.grid(True)\n",
    "plt.show()"
   ]
  },
  {
   "cell_type": "code",
   "execution_count": 11,
   "metadata": {},
   "outputs": [
    {
     "name": "stdout",
     "output_type": "stream",
     "text": [
      "07/18 12:07:38 AM | Valid: [ 1/50] Step 000/097 Loss 1.479 Prec@(1,5) (48.4%, 92.2%)\n",
      " [ 1/50] Step 000/097 Loss 1.479 Prec@(1,5) (48.4%, 92.2%)\n",
      " 1.479\n",
      "07/18 12:07:53 AM | Valid: [ 1/50] Step 010/097 Loss 1.441 Prec@(1,5) (47.4%, 92.6%)\n",
      " [ 1/50] Step 010/097 Loss 1.441 Prec@(1,5) (47.4%, 92.6%)\n",
      " 1.441\n",
      "07/18 12:08:10 AM | Valid: [ 1/50] Step 020/097 Loss 1.457 Prec@(1,5) (46.4%, 92.1%)\n",
      " [ 1/50] Step 020/097 Loss 1.457 Prec@(1,5) (46.4%, 92.1%)\n",
      " 1.457\n",
      "07/18 12:08:25 AM | Valid: [ 1/50] Step 030/097 Loss 1.457 Prec@(1,5) (46.6%, 92.3%)\n",
      " [ 1/50] Step 030/097 Loss 1.457 Prec@(1,5) (46.6%, 92.3%)\n",
      " 1.457\n",
      "07/18 12:08:40 AM | Valid: [ 1/50] Step 040/097 Loss 1.455 Prec@(1,5) (46.6%, 92.4%)\n",
      " [ 1/50] Step 040/097 Loss 1.455 Prec@(1,5) (46.6%, 92.4%)\n",
      " 1.455\n",
      "07/18 12:08:54 AM | Valid: [ 1/50] Step 050/097 Loss 1.459 Prec@(1,5) (46.1%, 92.3%)\n",
      " [ 1/50] Step 050/097 Loss 1.459 Prec@(1,5) (46.1%, 92.3%)\n",
      " 1.459\n",
      "07/18 12:09:09 AM | Valid: [ 1/50] Step 060/097 Loss 1.462 Prec@(1,5) (46.1%, 92.3%)\n",
      " [ 1/50] Step 060/097 Loss 1.462 Prec@(1,5) (46.1%, 92.3%)\n",
      " 1.462\n",
      "07/18 12:09:24 AM | Valid: [ 1/50] Step 070/097 Loss 1.458 Prec@(1,5) (46.1%, 92.3%)\n",
      " [ 1/50] Step 070/097 Loss 1.458 Prec@(1,5) (46.1%, 92.3%)\n",
      " 1.458\n",
      "07/18 12:09:38 AM | Valid: [ 1/50] Step 080/097 Loss 1.456 Prec@(1,5) (46.2%, 92.3%)\n",
      " [ 1/50] Step 080/097 Loss 1.456 Prec@(1,5) (46.2%, 92.3%)\n",
      " 1.456\n",
      "07/18 12:09:53 AM | Valid: [ 1/50] Step 090/097 Loss 1.448 Prec@(1,5) (46.4%, 92.4%)\n",
      " [ 1/50] Step 090/097 Loss 1.448 Prec@(1,5) (46.4%, 92.4%)\n",
      " 1.448\n",
      "07/18 12:10:03 AM | Valid: [ 1/50] Step 097/097 Loss 1.448 Prec@(1,5) (46.4%, 92.5%)\n",
      " [ 1/50] Step 097/097 Loss 1.448 Prec@(1,5) (46.4%, 92.5%)\n",
      " 1.448\n",
      "07/18 12:10:06 AM | Valid: [ 1/50] Final Prec@1 46.4240%\n",
      " [ 1/50] Final Prec@1 46.4240%\n"
     ]
    },
    {
     "ename": "IndexError",
     "evalue": "list index out of range",
     "output_type": "error",
     "traceback": [
      "\u001b[0;31m---------------------------------------------------------------------------\u001b[0m",
      "\u001b[0;31mIndexError\u001b[0m                                Traceback (most recent call last)",
      "\u001b[0;32m<ipython-input-11-b5c4ad752788>\u001b[0m in \u001b[0;36m<module>\u001b[0;34m\u001b[0m\n\u001b[1;32m     12\u001b[0m             \u001b[0mprint\u001b[0m\u001b[0;34m(\u001b[0m\u001b[0mline\u001b[0m\u001b[0;34m)\u001b[0m\u001b[0;34m\u001b[0m\u001b[0;34m\u001b[0m\u001b[0m\n\u001b[1;32m     13\u001b[0m             \u001b[0mprint\u001b[0m\u001b[0;34m(\u001b[0m\u001b[0mline\u001b[0m\u001b[0;34m.\u001b[0m\u001b[0msplit\u001b[0m\u001b[0;34m(\u001b[0m\u001b[0;34m\"Valid:\"\u001b[0m\u001b[0;34m)\u001b[0m\u001b[0;34m[\u001b[0m\u001b[0;36m1\u001b[0m\u001b[0;34m]\u001b[0m\u001b[0;34m)\u001b[0m\u001b[0;34m\u001b[0m\u001b[0;34m\u001b[0m\u001b[0m\n\u001b[0;32m---> 14\u001b[0;31m             \u001b[0mprint\u001b[0m\u001b[0;34m(\u001b[0m\u001b[0mline\u001b[0m\u001b[0;34m.\u001b[0m\u001b[0msplit\u001b[0m\u001b[0;34m(\u001b[0m\u001b[0;34m\"Valid:\"\u001b[0m\u001b[0;34m)\u001b[0m\u001b[0;34m[\u001b[0m\u001b[0;36m1\u001b[0m\u001b[0;34m]\u001b[0m\u001b[0;34m.\u001b[0m\u001b[0msplit\u001b[0m\u001b[0;34m(\u001b[0m\u001b[0;34m\"Loss\"\u001b[0m\u001b[0;34m)\u001b[0m\u001b[0;34m[\u001b[0m\u001b[0;36m1\u001b[0m\u001b[0;34m]\u001b[0m\u001b[0;34m.\u001b[0m\u001b[0msplit\u001b[0m\u001b[0;34m(\u001b[0m\u001b[0;34m\" Prec\"\u001b[0m\u001b[0;34m)\u001b[0m\u001b[0;34m[\u001b[0m\u001b[0;36m0\u001b[0m\u001b[0;34m]\u001b[0m\u001b[0;34m)\u001b[0m\u001b[0;34m\u001b[0m\u001b[0;34m\u001b[0m\u001b[0m\n\u001b[0m\u001b[1;32m     15\u001b[0m             \u001b[0mloss_y\u001b[0m\u001b[0;34m.\u001b[0m\u001b[0mappend\u001b[0m\u001b[0;34m(\u001b[0m\u001b[0mfloat\u001b[0m\u001b[0;34m(\u001b[0m\u001b[0mline\u001b[0m\u001b[0;34m.\u001b[0m\u001b[0msplit\u001b[0m\u001b[0;34m(\u001b[0m\u001b[0;34m\"Valid:\"\u001b[0m\u001b[0;34m)\u001b[0m\u001b[0;34m[\u001b[0m\u001b[0;36m1\u001b[0m\u001b[0;34m]\u001b[0m\u001b[0;34m.\u001b[0m\u001b[0msplit\u001b[0m\u001b[0;34m(\u001b[0m\u001b[0;34m\"Loss\"\u001b[0m\u001b[0;34m)\u001b[0m\u001b[0;34m[\u001b[0m\u001b[0;36m1\u001b[0m\u001b[0;34m]\u001b[0m\u001b[0;34m.\u001b[0m\u001b[0msplit\u001b[0m\u001b[0;34m(\u001b[0m\u001b[0;34m\" Prec\"\u001b[0m\u001b[0;34m)\u001b[0m\u001b[0;34m[\u001b[0m\u001b[0;36m0\u001b[0m\u001b[0;34m]\u001b[0m\u001b[0;34m)\u001b[0m\u001b[0;34m)\u001b[0m\u001b[0;34m\u001b[0m\u001b[0;34m\u001b[0m\u001b[0m\n\u001b[1;32m     16\u001b[0m             \u001b[0mloss_x\u001b[0m\u001b[0;34m.\u001b[0m\u001b[0mappend\u001b[0m\u001b[0;34m(\u001b[0m\u001b[0ml_n\u001b[0m\u001b[0;34m)\u001b[0m\u001b[0;34m\u001b[0m\u001b[0;34m\u001b[0m\u001b[0m\n",
      "\u001b[0;31mIndexError\u001b[0m: list index out of range"
     ]
    }
   ],
   "source": [
    "import matplotlib.pyplot as plt\n",
    "l_n = 0\n",
    "a_n = 0\n",
    "loss_x = []\n",
    "loss_y = []\n",
    "acc_x = []\n",
    "acc_y = []\n",
    "with open(\"cifar10-mg.log\") as f: \n",
    "    for line in f:\n",
    "        line = line.strip()\n",
    "        if len(line.split(\"Valid:\")) == 2:\n",
    "            print(line)\n",
    "            print(line.split(\"Valid:\")[1])\n",
    "            print(line.split(\"Valid:\")[1].split(\"Loss\")[1].split(\" Prec\")[0])\n",
    "            loss_y.append(float(line.split(\"Valid:\")[1].split(\"Loss\")[1].split(\" Prec\")[0]))\n",
    "            loss_x.append(l_n)\n",
    "            l_n += 20   #根据display调整\n",
    "print(len(loss_x))       \n",
    "plt.figure(figsize=(8,6))\n",
    "plt.plot(loss_x,loss_y,'',label=\"loss\")\n",
    "plt.title('loss')\n",
    "plt.legend(loc='upper right')\n",
    "plt.xlabel('iter')\n",
    "plt.ylabel('')\n",
    "plt.grid(loss_x)\n",
    "plt.show()"
   ]
  },
  {
   "cell_type": "code",
   "execution_count": null,
   "metadata": {},
   "outputs": [],
   "source": []
  }
 ],
 "metadata": {
  "kernelspec": {
   "display_name": "Python 3",
   "language": "python",
   "name": "python3"
  },
  "language_info": {
   "codemirror_mode": {
    "name": "ipython",
    "version": 3
   },
   "file_extension": ".py",
   "mimetype": "text/x-python",
   "name": "python",
   "nbconvert_exporter": "python",
   "pygments_lexer": "ipython3",
   "version": "3.8.3"
  }
 },
 "nbformat": 4,
 "nbformat_minor": 4
}
